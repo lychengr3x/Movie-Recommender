{
 "cells": [
  {
   "cell_type": "code",
   "execution_count": 1,
   "metadata": {
    "scrolled": true
   },
   "outputs": [],
   "source": [
    "from collections import defaultdict\n",
    "import numpy as np\n",
    "import random\n",
    "import pandas as pd\n",
    "import matplotlib.pyplot as plt\n",
    "from sklearn.model_selection import train_test_split\n",
    "import pickle"
   ]
  },
  {
   "cell_type": "code",
   "execution_count": 2,
   "metadata": {},
   "outputs": [
    {
     "name": "stdout",
     "output_type": "stream",
     "text": [
      "Training Size: 70399\n",
      "Validation Size: 8800\n",
      "Testing Size: 8800\n"
     ]
    }
   ],
   "source": [
    "train = pd.read_csv('dataset/train.csv')\n",
    "valid = pd.read_csv('dataset/valid.csv')\n",
    "test = pd.read_csv('dataset/test.csv')\n",
    "\n",
    "\n",
    "train = train.astype({'userId': 'str','movieId': 'str'})\n",
    "valid = valid.astype({'userId': 'str','movieId': 'str'})\n",
    "test = test.astype({'userId': 'str','movieId': 'str'})\n",
    "\n",
    "X_train = train[['userId','movieId','rating']].values\n",
    "X_val = valid[['userId','movieId','rating']].values\n",
    "X_test = test[['userId','movieId','rating']].values\n",
    "\n",
    "print('Training Size: %d' % len(X_train))\n",
    "print('Validation Size: %d' % len(X_val))\n",
    "print('Testing Size: %d' % len(X_test))"
   ]
  },
  {
   "cell_type": "code",
   "execution_count": 3,
   "metadata": {
    "scrolled": true
   },
   "outputs": [
    {
     "name": "stdout",
     "output_type": "stream",
     "text": [
      "alpha_init_avg - 3.546187\n"
     ]
    }
   ],
   "source": [
    "usersPerMovie = defaultdict(set)\n",
    "moviesPerUser = defaultdict(set)\n",
    "usersPerMovie_rate = defaultdict(list)\n",
    "moviesPerUser_rate = defaultdict(list)\n",
    "usermovie_rating = defaultdict(int)\n",
    "\n",
    "user_Map = defaultdict(int)\n",
    "u_Count = 0\n",
    "movie_Map = defaultdict(int)\n",
    "m_Count = 0\n",
    "\n",
    "alpha_init = 0\n",
    "\n",
    "count = 0\n",
    "for user, movie, r in X_train:\n",
    "    usersPerMovie[movie].add(user)\n",
    "    moviesPerUser[user].add(movie)\n",
    "    usermovie_rating[user+movie] = r\n",
    "    usersPerMovie_rate[movie].append((user,r))\n",
    "    moviesPerUser_rate[user].append((movie,r))\n",
    "    \n",
    "    if user not in user_Map:\n",
    "        user_Map[user] = u_Count\n",
    "        u_Count += 1\n",
    "    if movie not in movie_Map:\n",
    "        movie_Map[movie] = m_Count\n",
    "        m_Count += 1\n",
    "    \n",
    "    alpha_init += r\n",
    "alpha_init /= len(X_train)  \n",
    "print('alpha_init_avg - %f' % alpha_init)"
   ]
  },
  {
   "cell_type": "markdown",
   "metadata": {},
   "source": [
    "### Simple Model"
   ]
  },
  {
   "cell_type": "code",
   "execution_count": 4,
   "metadata": {
    "scrolled": true
   },
   "outputs": [],
   "source": [
    "def model_initial(alpha_init, mode = 'normal'):\n",
    "    '''\n",
    "    Initialize parameters of betas\n",
    "    \n",
    "    Returns: beta_user(dict): how often this user tends to rate higher than mean\n",
    "             beta_movie(dict): how often this movie is rated higher than mean\n",
    "             mode(str): choose mode to generate initialization\n",
    "    '''\n",
    "    if mode == 'normal':\n",
    "        beta_user = {}\n",
    "        beta_movie = {}\n",
    "        for u in moviesPerUser:\n",
    "            count_high = 0\n",
    "            count = 0\n",
    "            for m in moviesPerUser_rate[u]:\n",
    "                count+=1\n",
    "                if m[1]>alpha_init:\n",
    "                    count_high += 1\n",
    "                else:\n",
    "                    count_high -= 1\n",
    "\n",
    "            beta_user[u] = float(count_high)/count\n",
    "\n",
    "        for m in usersPerMovie:\n",
    "            count_high = 0\n",
    "            count = 0\n",
    "            for u in usersPerMovie_rate[m]:\n",
    "                count+=1\n",
    "                if u[1]>alpha_init:\n",
    "                    count_high += 1\n",
    "                else:\n",
    "                    count_high -= 1\n",
    "\n",
    "            beta_movie[m] = float(count_high)/count\n",
    "\n",
    "        return beta_user, beta_movie\n",
    "    \n",
    "    elif mode == 'random':\n",
    "        mu, sigma = 0, 0.1 \n",
    "        \n",
    "        beta_user = {}\n",
    "        beta_movie = {}\n",
    "        for u in moviesPerUser:\n",
    "            beta_user[u] = np.random.normal(mu, sigma, 1)\n",
    "\n",
    "        for m in usersPerMovie:\n",
    "            beta_movie[m] = np.random.normal(mu, sigma, 1)\n",
    "\n",
    "        return beta_user, beta_movie"
   ]
  },
  {
   "cell_type": "code",
   "execution_count": 5,
   "metadata": {
    "scrolled": true
   },
   "outputs": [],
   "source": [
    "def evaluate(alpha, beta_user, beta_movie, data = 'valid', user_Map = None, movie_Map = None, ga_u = None\n",
    "             , ga_m = None,  latent_factor = False):\n",
    "    '''\n",
    "    Evaluate the model\n",
    "    \n",
    "    Returns: alpha(float): global mean\n",
    "             beta_user(dict): how often this user tends to rate higher than mean\n",
    "             beta_movie(dict): how often this movie is rated higher than mean\n",
    "             data(str): choose the dataset to be evaluated\n",
    "             user_Map, movie_Map(dict): map the index of gamma matrix\n",
    "             ga_u, ga_m(np.array): gamma matrix\n",
    "             latent_factor(bool): whether latent factor model is considered\n",
    "    '''\n",
    " \n",
    "    pred_rate = []\n",
    "    error = 0\n",
    "    if data == 'valid':\n",
    "        eval_set = X_val\n",
    "    elif data == 'test':\n",
    "        eval_set = X_test\n",
    "\n",
    "    for u_v, m_v, r_v in eval_set:\n",
    "        beta_u, beta_m = beta_user.get(u_v, 0), beta_movie.get(m_v, 0)\n",
    "        pred = alpha + beta_u + beta_m\n",
    "        if latent_factor == True:\n",
    "            if u_v in user_Map and m_v in movie_Map:\n",
    "                pred += np.inner(ga_u[user_Map[u_v]], ga__m[movie_Map[m_v]])\n",
    "\n",
    "        if pred>5:\n",
    "            pred = 5\n",
    "        elif pred<0:\n",
    "            pred = 0\n",
    "\n",
    "        pred_rate.append(pred)\n",
    "        error += (r_v - pred) ** 2\n",
    "    return error/ len(pred_rate)\n"
   ]
  },
  {
   "cell_type": "code",
   "execution_count": 6,
   "metadata": {
    "scrolled": true
   },
   "outputs": [
    {
     "name": "stdout",
     "output_type": "stream",
     "text": [
      "--------- lambda = 1 ----------\n",
      "Iter: 1 - -  Alpha = 3.461597, MSE = 0.789621\n",
      "Iter: 101 - -  Alpha = 3.435965, MSE = 0.786265\n",
      "Iter: 201 - -  Alpha = 3.468941, MSE = 0.786237\n",
      "Iter: 301 - -  Alpha = 3.482010, MSE = 0.786226\n",
      "Iter: 401 - -  Alpha = 3.487160, MSE = 0.786222\n",
      "Testing MSE = 0.750562\n",
      "--------- lambda = 2 ----------\n",
      "Iter: 1 - -  Alpha = 3.457988, MSE = 0.784928\n",
      "Iter: 101 - -  Alpha = 3.462732, MSE = 0.781828\n",
      "Iter: 201 - -  Alpha = 3.479517, MSE = 0.781804\n",
      "Iter: 301 - -  Alpha = 3.482229, MSE = 0.781800\n",
      "Iter: 401 - -  Alpha = 3.482667, MSE = 0.781799\n",
      "Testing MSE = 0.747240\n",
      "--------- lambda = 3 ----------\n",
      "Iter: 1 - -  Alpha = 3.455832, MSE = 0.784309\n",
      "Iter: 101 - -  Alpha = 3.475697, MSE = 0.781614\n",
      "Iter: 201 - -  Alpha = 3.483245, MSE = 0.781598\n",
      "Iter: 301 - -  Alpha = 3.483762, MSE = 0.781597\n",
      "Iter: 401 - -  Alpha = 3.483798, MSE = 0.781597\n",
      "Testing MSE = 0.747680\n",
      "--------- lambda = 4 ----------\n",
      "Iter: 1 - -  Alpha = 3.454483, MSE = 0.785089\n",
      "Iter: 101 - -  Alpha = 3.483068, MSE = 0.782807\n",
      "Iter: 201 - -  Alpha = 3.486411, MSE = 0.782799\n",
      "Iter: 301 - -  Alpha = 3.486511, MSE = 0.782799\n",
      "Iter: 401 - -  Alpha = 3.486514, MSE = 0.782799\n",
      "Testing MSE = 0.749326\n",
      "--------- lambda = 5 ----------\n",
      "Iter: 1 - -  Alpha = 3.453646, MSE = 0.786472\n",
      "Iter: 101 - -  Alpha = 3.488083, MSE = 0.784592\n",
      "Iter: 201 - -  Alpha = 3.489582, MSE = 0.784588\n",
      "Iter: 301 - -  Alpha = 3.489602, MSE = 0.784588\n",
      "Iter: 401 - -  Alpha = 3.489602, MSE = 0.784588\n",
      "Testing MSE = 0.751454\n"
     ]
    }
   ],
   "source": [
    "alpha = 0\n",
    "lamb_list = [i for i in range(1, 6)]\n",
    "\n",
    "n_epoch = 500\n",
    "thres = 1* 10**-2\n",
    "\n",
    "MSE_final = []\n",
    "for lamb in lamb_list:\n",
    "    print('--------- lambda = %d ----------' % lamb)\n",
    "    \n",
    "    old_MSE, MSE = 0, 0\n",
    "\n",
    "    beta_user, beta_movie = model_initial(alpha_init, mode = 'normal')\n",
    "    \n",
    "    for ite in range(n_epoch):\n",
    "\n",
    "        # update alpha\n",
    "        tmp_alpha = 0\n",
    "        for user, movie, rating in X_train:\n",
    "            tmp_alpha += (rating - ( beta_user[user] + beta_movie[movie] ))\n",
    "        alpha = tmp_alpha / len(X_train)\n",
    "\n",
    "        # update beta_user\n",
    "        tmp_beta_user = {}\n",
    "        for u in beta_user:\n",
    "            temp = sum([usermovie_rating[u+m] - (alpha+beta_movie[m]) for m in moviesPerUser[u]])\n",
    "            tmp_beta_user[u] = temp/ (lamb + len(moviesPerUser[u]))\n",
    "\n",
    "        # update beta movie\n",
    "        tmp_beta_movie = {}\n",
    "        for m in beta_movie:\n",
    "            temp = sum([usermovie_rating[u+m] - (alpha+beta_user[u]) for u in usersPerMovie[m]])\n",
    "            tmp_beta_movie[m] = temp/ (lamb + len(usersPerMovie[m]))\n",
    "\n",
    "        for u in beta_user:\n",
    "            beta_user[u] = tmp_beta_user[u]\n",
    "        for m in beta_movie:\n",
    "            beta_movie[m] = tmp_beta_movie[m]\n",
    "\n",
    "        # calculate MSE(validation set)\n",
    "        MSE = evaluate(alpha, beta_user, beta_movie, data = 'valid')\n",
    "\n",
    "        if ite%100 == 1: \n",
    "            print('Iter: %d - -  Alpha = %f, MSE = %f' % (ite, alpha, MSE))\n",
    "\n",
    "        if ite>=1 and (MSE-old_MSE)>thres:\n",
    "            print('Early Stop at Epoch %d' % ite)         \n",
    "            break\n",
    "\n",
    "        old_MSE = MSE\n",
    "    \n",
    "    MSE_final.append(MSE)\n",
    "\n",
    "    \n",
    "    # calculate MSE(testing set)\n",
    "    MSE_t = evaluate(alpha, beta_user, beta_movie, data = 'test')\n",
    "    print('Testing MSE = %f' % (MSE_t))"
   ]
  },
  {
   "cell_type": "code",
   "execution_count": 7,
   "metadata": {
    "scrolled": true
   },
   "outputs": [
    {
     "data": {
      "text/plain": [
       "[<matplotlib.lines.Line2D at 0x21dcbb945c0>]"
      ]
     },
     "execution_count": 7,
     "metadata": {},
     "output_type": "execute_result"
    },
    {
     "data": {
      "image/png": "[encoded data removed]",
      "text/plain": [
       "<Figure size 720x720 with 1 Axes>"
      ]
     },
     "metadata": {
      "needs_background": "light"
     },
     "output_type": "display_data"
    }
   ],
   "source": [
    "plt.figure(figsize=(10,10))\n",
    "plt.plot([i for i in range(1, 6)],MSE_final)"
   ]
  },
  {
   "cell_type": "code",
   "execution_count": 8,
   "metadata": {
    "scrolled": true
   },
   "outputs": [
    {
     "name": "stdout",
     "output_type": "stream",
     "text": [
      "--------- lambda = 2.50 ----------\n",
      "Iter: 1 - -  Alpha = 3.456782, MSE = 0.784356\n",
      "Iter: 101 - -  Alpha = 3.470259, MSE = 0.781453\n",
      "Iter: 201 - -  Alpha = 3.481573, MSE = 0.781433\n",
      "Iter: 301 - -  Alpha = 3.482759, MSE = 0.781431\n",
      "Iter: 401 - -  Alpha = 3.482883, MSE = 0.781431\n",
      "Testing MSE = 0.747226\n",
      "--------- lambda = 2.60 ----------\n",
      "Iter: 1 - -  Alpha = 3.456574, MSE = 0.784312\n",
      "Iter: 101 - -  Alpha = 3.471484, MSE = 0.781451\n",
      "Iter: 201 - -  Alpha = 3.481924, MSE = 0.781432\n",
      "Iter: 301 - -  Alpha = 3.482928, MSE = 0.781430\n",
      "Iter: 401 - -  Alpha = 3.483025, MSE = 0.781430\n",
      "Testing MSE = 0.747288\n",
      "--------- lambda = 2.70 ----------\n",
      "Iter: 1 - -  Alpha = 3.456375, MSE = 0.784288\n",
      "Iter: 101 - -  Alpha = 3.472634, MSE = 0.781467\n",
      "Iter: 201 - -  Alpha = 3.482264, MSE = 0.781449\n",
      "Iter: 301 - -  Alpha = 3.483114, MSE = 0.781448\n",
      "Iter: 401 - -  Alpha = 3.483190, MSE = 0.781448\n",
      "Testing MSE = 0.747365\n",
      "--------- lambda = 2.80 ----------\n",
      "Iter: 1 - -  Alpha = 3.456186, MSE = 0.784280\n",
      "Iter: 101 - -  Alpha = 3.473715, MSE = 0.781501\n",
      "Iter: 201 - -  Alpha = 3.482596, MSE = 0.781484\n",
      "Iter: 301 - -  Alpha = 3.483317, MSE = 0.781482\n",
      "Iter: 401 - -  Alpha = 3.483375, MSE = 0.781482\n",
      "Testing MSE = 0.747458\n",
      "--------- lambda = 2.90 ----------\n",
      "Iter: 1 - -  Alpha = 3.456005, MSE = 0.784288\n",
      "Iter: 101 - -  Alpha = 3.474735, MSE = 0.781550\n",
      "Iter: 201 - -  Alpha = 3.482923, MSE = 0.781534\n",
      "Iter: 301 - -  Alpha = 3.483533, MSE = 0.781533\n",
      "Iter: 401 - -  Alpha = 3.483579, MSE = 0.781533\n",
      "Testing MSE = 0.747563\n",
      "--------- lambda = 3.00 ----------\n",
      "Iter: 1 - -  Alpha = 3.455832, MSE = 0.784309\n",
      "Iter: 101 - -  Alpha = 3.475697, MSE = 0.781614\n",
      "Iter: 201 - -  Alpha = 3.483245, MSE = 0.781598\n",
      "Iter: 301 - -  Alpha = 3.483762, MSE = 0.781597\n",
      "Iter: 401 - -  Alpha = 3.483798, MSE = 0.781597\n",
      "Testing MSE = 0.747680\n",
      "--------- lambda = 3.10 ----------\n",
      "Iter: 1 - -  Alpha = 3.455668, MSE = 0.784344\n",
      "Iter: 101 - -  Alpha = 3.476607, MSE = 0.781690\n",
      "Iter: 201 - -  Alpha = 3.483565, MSE = 0.781676\n",
      "Iter: 301 - -  Alpha = 3.484003, MSE = 0.781675\n",
      "Iter: 401 - -  Alpha = 3.484031, MSE = 0.781675\n",
      "Testing MSE = 0.747808\n",
      "--------- lambda = 3.20 ----------\n",
      "Iter: 1 - -  Alpha = 3.455510, MSE = 0.784391\n",
      "Iter: 101 - -  Alpha = 3.477470, MSE = 0.781778\n",
      "Iter: 201 - -  Alpha = 3.483882, MSE = 0.781765\n",
      "Iter: 301 - -  Alpha = 3.484254, MSE = 0.781764\n",
      "Iter: 401 - -  Alpha = 3.484275, MSE = 0.781764\n",
      "Testing MSE = 0.747947\n",
      "--------- lambda = 3.30 ----------\n",
      "Iter: 1 - -  Alpha = 3.455360, MSE = 0.784448\n",
      "Iter: 101 - -  Alpha = 3.478289, MSE = 0.781877\n",
      "Iter: 201 - -  Alpha = 3.484199, MSE = 0.781864\n",
      "Iter: 301 - -  Alpha = 3.484514, MSE = 0.781864\n",
      "Iter: 401 - -  Alpha = 3.484531, MSE = 0.781864\n",
      "Testing MSE = 0.748094\n",
      "--------- lambda = 3.40 ----------\n",
      "Iter: 1 - -  Alpha = 3.455217, MSE = 0.784516\n",
      "Iter: 101 - -  Alpha = 3.479068, MSE = 0.781986\n",
      "Iter: 201 - -  Alpha = 3.484515, MSE = 0.781974\n",
      "Iter: 301 - -  Alpha = 3.484782, MSE = 0.781974\n",
      "Iter: 401 - -  Alpha = 3.484795, MSE = 0.781973\n",
      "Testing MSE = 0.748250\n",
      "--------- lambda = 3.50 ----------\n",
      "Iter: 1 - -  Alpha = 3.455080, MSE = 0.784592\n",
      "Iter: 101 - -  Alpha = 3.479810, MSE = 0.782104\n",
      "Iter: 201 - -  Alpha = 3.484830, MSE = 0.782093\n",
      "Iter: 301 - -  Alpha = 3.485057, MSE = 0.782092\n",
      "Iter: 401 - -  Alpha = 3.485067, MSE = 0.782092\n",
      "Testing MSE = 0.748414\n"
     ]
    }
   ],
   "source": [
    "alpha = 0\n",
    "lamb_list = [i for i in np.arange(2.5, 3.6, 0.1)]\n",
    "alpha_f = 0\n",
    "beta_user_f = {}\n",
    "beta_movie_f = {}\n",
    "\n",
    "n_epoch = 500\n",
    "thres = 1* 10**-2\n",
    "\n",
    "MSE_final = []\n",
    "for lamb in lamb_list:\n",
    "    print('--------- lambda = %.2f ----------' % lamb)\n",
    "\n",
    "    old_MSE, MSE = 0, 0\n",
    "    beta_user, beta_movie = model_initial(alpha_init, mode = 'normal')\n",
    "    \n",
    "    for ite in range(n_epoch):\n",
    "\n",
    "        # update alpha\n",
    "        tmp_alpha = 0\n",
    "        for user, movie, rating in X_train:\n",
    "            tmp_alpha += (rating - ( beta_user[user] + beta_movie[movie] ))\n",
    "        alpha = tmp_alpha / len(X_train)\n",
    "\n",
    "        # update beta_user\n",
    "        tmp_beta_user = {}\n",
    "        for u in beta_user:\n",
    "            temp = sum([usermovie_rating[u+m] - (alpha+beta_movie[m]) for m in moviesPerUser[u]])\n",
    "            tmp_beta_user[u] = temp/ (lamb + len(moviesPerUser[u]))\n",
    "\n",
    "        # update beta movie\n",
    "        tmp_beta_movie = {}\n",
    "        for m in beta_movie:\n",
    "            temp = sum([usermovie_rating[u+m] - (alpha+beta_user[u]) for u in usersPerMovie[m]])\n",
    "            tmp_beta_movie[m] = temp/ (lamb + len(usersPerMovie[m]))\n",
    "\n",
    "        for u in beta_user:\n",
    "            beta_user[u] = tmp_beta_user[u]\n",
    "        for m in beta_movie:\n",
    "            beta_movie[m] = tmp_beta_movie[m]\n",
    "\n",
    "        # calculate MSE(validation set)\n",
    "        MSE = evaluate(alpha, beta_user, beta_movie, 'valid')\n",
    "        if ite%100 == 1: \n",
    "            print('Iter: %d - -  Alpha = %f, MSE = %f' % (ite, alpha, MSE))\n",
    "\n",
    "        if ite>=1 and (MSE-old_MSE)>thres:         \n",
    "            print('Early Stop at Epoch %d' % ite)\n",
    "            break\n",
    "\n",
    "        old_MSE = MSE\n",
    "    MSE_final.append(MSE) \n",
    "\n",
    "    # calculate MSE(testing set)\n",
    "    MSE_t = evaluate(alpha, beta_user, beta_movie, data = 'test')\n",
    "    print('Testing MSE = %f' % (MSE_t))"
   ]
  },
  {
   "cell_type": "code",
   "execution_count": 10,
   "metadata": {
    "scrolled": true
   },
   "outputs": [
    {
     "name": "stdout",
     "output_type": "stream",
     "text": [
      "Optimized Lambda: 2.60\n"
     ]
    },
    {
     "data": {
      "text/plain": [
       "[<matplotlib.lines.Line2D at 0x21dcc232630>]"
      ]
     },
     "execution_count": 10,
     "metadata": {},
     "output_type": "execute_result"
    },
    {
     "data": {
      "image/png": "[encoded data removed]",
      "text/plain": [
       "<Figure size 720x720 with 1 Axes>"
      ]
     },
     "metadata": {
      "needs_background": "light"
     },
     "output_type": "display_data"
    }
   ],
   "source": [
    "idx = np.argmin(MSE_final)\n",
    "optimized_lamb = lamb_list[idx]\n",
    "print('Optimized Lambda: %.2f' % optimized_lamb)\n",
    "plt.figure(figsize=(10,10))\n",
    "plt.plot( lamb_list, MSE_final)"
   ]
  },
  {
   "cell_type": "code",
   "execution_count": 11,
   "metadata": {},
   "outputs": [],
   "source": [
    "f = open('dataset/rating_model.pkl', 'wb')\n",
    "pickle.dump([alpha,beta_user, beta_movie], f)\n",
    "f.close()"
   ]
  },
  {
   "cell_type": "code",
   "execution_count": 12,
   "metadata": {},
   "outputs": [],
   "source": [
    "f = open('dataset/rating_model.pkl', 'rb')\n",
    "obj = pickle.load(f)\n",
    "f.close()"
   ]
  },
  {
   "cell_type": "code",
   "execution_count": null,
   "metadata": {},
   "outputs": [],
   "source": [
    "alpha_d, beta_user_d, beta_movie_d = obj\n",
    "def predict(user, movie):\n",
    "    '''\n",
    "    Predict how much the user would rate on the movie\n",
    "    \n",
    "    Returns: user(str), movie(str)\n",
    "    '''\n",
    "    beta_u, beta_m = beta_user_d.get(user, 0), beta_movie_d.get(movie, 0)\n",
    "    pred_rating = alpha_d + beta_u + beta_m\n",
    "\n",
    "    if pred_rating>5:\n",
    "        pred_rating = 5\n",
    "    elif pred_rating<0:\n",
    "        pred_rating = 0\n",
    "\n",
    "    return pred_rating"
   ]
  },
  {
   "cell_type": "code",
   "execution_count": null,
   "metadata": {},
   "outputs": [],
   "source": []
  },
  {
   "cell_type": "code",
   "execution_count": null,
   "metadata": {
    "scrolled": true
   },
   "outputs": [],
   "source": []
  }
 ],
 "metadata": {
  "kernelspec": {
   "display_name": "Python 3",
   "language": "python",
   "name": "python3"
  },
  "language_info": {
   "codemirror_mode": {
    "name": "ipython",
    "version": 3
   },
   "file_extension": ".py",
   "mimetype": "text/x-python",
   "name": "python",
   "nbconvert_exporter": "python",
   "pygments_lexer": "ipython3",
   "version": "3.7.3"
  }
 },
 "nbformat": 4,
 "nbformat_minor": 2
}
