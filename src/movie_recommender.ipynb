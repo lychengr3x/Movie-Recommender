{
 "cells": [
  {
   "cell_type": "code",
   "execution_count": 1,
   "metadata": {},
   "outputs": [],
   "source": [
    "import pandas as pd\n",
    "import numpy as np\n",
    "from tqdm import tqdm\n",
    "from utils import recall_at_k, read_meta_data, read_training_data, read_validation_data, read_testing_data, get_movies_per_user\n",
    "from consts import JACCARD_SIM\n",
    "from models import ContentBasedFiltering\n",
    "from collections import defaultdict\n",
    "from surprise import dump\n",
    "from surprise.prediction_algorithms.matrix_factorization import SVD, SVDpp"
   ]
  },
  {
   "cell_type": "markdown",
   "metadata": {},
   "source": [
    "# Load data"
   ]
  },
  {
   "cell_type": "code",
   "execution_count": 2,
   "metadata": {},
   "outputs": [
    {
     "name": "stdout",
     "output_type": "stream",
     "text": [
      "CPU times: user 1min 2s, sys: 5.53 s, total: 1min 7s\n",
      "Wall time: 1min 8s\n"
     ]
    }
   ],
   "source": [
    "%%time\n",
    "train_set = read_training_data()\n",
    "validation_set = read_validation_data()\n",
    "test_set = read_testing_data()\n",
    "movies_per_user = get_movies_per_user(train_set)"
   ]
  },
  {
   "cell_type": "markdown",
   "metadata": {},
   "source": [
    "# 1. Content-based filtering recommender"
   ]
  },
  {
   "cell_type": "code",
   "execution_count": 3,
   "metadata": {},
   "outputs": [],
   "source": [
    "content_based_filtering = ContentBasedFiltering(meta_df=read_meta_data())"
   ]
  },
  {
   "cell_type": "code",
   "execution_count": 4,
   "metadata": {},
   "outputs": [
    {
     "name": "stdout",
     "output_type": "stream",
     "text": [
      "CPU times: user 28.6 s, sys: 6.44 s, total: 35 s\n",
      "Wall time: 36.8 s\n"
     ]
    }
   ],
   "source": [
    "%%time\n",
    "content_based_filtering.compute_jaccard_similarity(fname=JACCARD_SIM)"
   ]
  },
  {
   "cell_type": "code",
   "execution_count": 5,
   "metadata": {},
   "outputs": [
    {
     "name": "stdout",
     "output_type": "stream",
     "text": [
      "CPU times: user 1min 5s, sys: 20.1 s, total: 1min 25s\n",
      "Wall time: 1min 40s\n"
     ]
    }
   ],
   "source": [
    "%%time\n",
    "content_based_filtering.compute_cosine_similarity()"
   ]
  },
  {
   "cell_type": "markdown",
   "metadata": {},
   "source": [
    "## Recommend 40 movies for each validation pair"
   ]
  },
  {
   "cell_type": "code",
   "execution_count": 6,
   "metadata": {},
   "outputs": [
    {
     "name": "stderr",
     "output_type": "stream",
     "text": [
      "100%|██████████| 2597428/2597428 [03:09<00:00, 13686.47it/s]"
     ]
    },
    {
     "name": "stdout",
     "output_type": "stream",
     "text": [
      "CPU times: user 1min 30s, sys: 44.9 s, total: 2min 15s\n",
      "Wall time: 3min 9s\n"
     ]
    },
    {
     "name": "stderr",
     "output_type": "stream",
     "text": [
      "\n"
     ]
    }
   ],
   "source": [
    "%%time\n",
    "topk = 40\n",
    "content_based_recommendation = defaultdict(list)\n",
    "for u, m, _ in tqdm(validation_set.values, position=0, leave=True):\n",
    "    if m not in content_based_recommendation.keys():\n",
    "        try:\n",
    "            content_based_recommendation[m] = content_based_filtering.recommend(int(m), topk=topk)\n",
    "        except:\n",
    "            print(u, m)"
   ]
  },
  {
   "cell_type": "markdown",
   "metadata": {},
   "source": [
    "### Recommendations based on `Toy Story`"
   ]
  },
  {
   "cell_type": "code",
   "execution_count": 7,
   "metadata": {},
   "outputs": [],
   "source": [
    "movie_id = content_based_filtering.meta_df[content_based_filtering.meta_df.title==\"Toy Story\"][\"movieId\"].squeeze()"
   ]
  },
  {
   "cell_type": "code",
   "execution_count": 8,
   "metadata": {
    "scrolled": true
   },
   "outputs": [
    {
     "name": "stdout",
     "output_type": "stream",
     "text": [
      "Toy Story 2\n",
      "Toy Story 3\n",
      "Toy Story of Terror!\n",
      "Toy Story That Time Forgot\n",
      "Small Fry\n",
      "Hawaiian Vacation\n",
      "Partysaurus Rex\n",
      "Tom and Jerry: Shiver Me Whiskers\n",
      "The Tangerine Bear: Home in Time for Christmas!\n",
      "Superstar Goofy\n"
     ]
    }
   ],
   "source": [
    "topk = 10\n",
    "for i, idx in enumerate(content_based_recommendation[str(movie_id)]):\n",
    "    if i == topk: break\n",
    "    print(content_based_filtering.movieId_to_title[int(idx)])"
   ]
  },
  {
   "cell_type": "markdown",
   "metadata": {},
   "source": [
    "### Recommendations based on `Iron Man`"
   ]
  },
  {
   "cell_type": "code",
   "execution_count": 9,
   "metadata": {},
   "outputs": [],
   "source": [
    "movie_id = content_based_filtering.meta_df[content_based_filtering.meta_df.title==\"Iron Man\"][\"movieId\"].squeeze()"
   ]
  },
  {
   "cell_type": "code",
   "execution_count": 10,
   "metadata": {},
   "outputs": [
    {
     "data": {
      "text/plain": [
       "12578     59315\n",
       "34468    147070\n",
       "41503    167296\n",
       "Name: movieId, dtype: int64"
      ]
     },
     "execution_count": 10,
     "metadata": {},
     "output_type": "execute_result"
    }
   ],
   "source": [
    "# several movies named `Iron Man`...\n",
    "movie_id"
   ]
  },
  {
   "cell_type": "code",
   "execution_count": 11,
   "metadata": {
    "scrolled": true
   },
   "outputs": [
    {
     "name": "stdout",
     "output_type": "stream",
     "text": [
      "Iron Man 2\n",
      "Iron Man 3\n",
      "Jocks\n",
      "Avengers: Age of Ultron\n",
      "Ant-Man\n",
      "The Invincible Iron Man\n",
      "Thor\n",
      "Marvel One-Shot: The Consultant\n",
      "Iron Man & Hulk: Heroes United\n",
      "Relentless\n"
     ]
    }
   ],
   "source": [
    "topk = 10\n",
    "for i, idx in enumerate(content_based_recommendation[str(59315)]):\n",
    "    if i == topk: break\n",
    "    print(content_based_filtering.movieId_to_title[int(idx)])"
   ]
  },
  {
   "cell_type": "markdown",
   "metadata": {},
   "source": [
    "## Evaluation: Recall at 10 based on 40 movies"
   ]
  },
  {
   "cell_type": "code",
   "execution_count": 12,
   "metadata": {
    "scrolled": true
   },
   "outputs": [
    {
     "name": "stderr",
     "output_type": "stream",
     "text": [
      "100%|██████████| 2597428/2597428 [00:38<00:00, 67582.84it/s] "
     ]
    },
    {
     "name": "stdout",
     "output_type": "stream",
     "text": [
      "CPU times: user 18.5 s, sys: 8.94 s, total: 27.4 s\n",
      "Wall time: 38.4 s\n"
     ]
    },
    {
     "name": "stderr",
     "output_type": "stream",
     "text": [
      "\n"
     ]
    }
   ],
   "source": [
    "%%time\n",
    "k =10\n",
    "avg_recall = 0\n",
    "for u, m, _ in tqdm(validation_set.values, position=0, leave=True):\n",
    "    avg_recall += recall_at_k(user=u, \n",
    "                              prediction=content_based_recommendation[m], \n",
    "                              k=k, \n",
    "                              items_per_user=movies_per_user)"
   ]
  },
  {
   "cell_type": "code",
   "execution_count": 13,
   "metadata": {},
   "outputs": [
    {
     "name": "stdout",
     "output_type": "stream",
     "text": [
      "Recall at 10: 0.04991483883318549\n"
     ]
    }
   ],
   "source": [
    "print(f\"Recall at {k}: {avg_recall / validation_set.shape[0]}\")"
   ]
  },
  {
   "cell_type": "markdown",
   "metadata": {},
   "source": [
    "# 2. Hybrid Recommender: Content-based filtering + Collaborative filtering"
   ]
  },
  {
   "cell_type": "markdown",
   "metadata": {},
   "source": [
    "### Load Collaborative-filtering model"
   ]
  },
  {
   "cell_type": "code",
   "execution_count": 14,
   "metadata": {},
   "outputs": [],
   "source": [
    "_, svd = dump.load(\"../data/svd_k1_reg_b_0135_reg_r_012_epochs_50.pkl\")"
   ]
  },
  {
   "cell_type": "markdown",
   "metadata": {},
   "source": [
    "## Recommend movies for each validation pair"
   ]
  },
  {
   "cell_type": "code",
   "execution_count": 15,
   "metadata": {
    "scrolled": true
   },
   "outputs": [
    {
     "name": "stderr",
     "output_type": "stream",
     "text": [
      "100%|██████████| 2597428/2597428 [18:40<00:00, 2318.20it/s]  "
     ]
    },
    {
     "name": "stdout",
     "output_type": "stream",
     "text": [
      "CPU times: user 16min 13s, sys: 5min 43s, total: 21min 57s\n",
      "Wall time: 18min 40s\n"
     ]
    },
    {
     "name": "stderr",
     "output_type": "stream",
     "text": [
      "\n"
     ]
    }
   ],
   "source": [
    "%%time\n",
    "hybrid_recommendation = defaultdict(list)\n",
    "for user, movie, _ in tqdm(validation_set.values, position=0, leave=True):\n",
    "    for m in content_based_recommendation[movie]:\n",
    "        try:\n",
    "            pred_rating = svd.predict(user, m).est\n",
    "        except:\n",
    "            print(f\"ERROR: pair({user},{movie}) | m: {m}\")\n",
    "            pred_rating = svd.default_prediction()\n",
    "        \n",
    "        hybrid_recommendation[user, movie].append((pred_rating, str(m)))    "
   ]
  },
  {
   "cell_type": "code",
   "execution_count": 16,
   "metadata": {},
   "outputs": [
    {
     "name": "stdout",
     "output_type": "stream",
     "text": [
      "CPU times: user 1min 9s, sys: 2min 15s, total: 3min 24s\n",
      "Wall time: 4min 28s\n"
     ]
    }
   ],
   "source": [
    "%%time\n",
    "hybrid_recommendation_sorted = {key: sorted(val, key=lambda x: x[0], reverse=True) for key, val in hybrid_recommendation.items()}"
   ]
  },
  {
   "cell_type": "code",
   "execution_count": 17,
   "metadata": {},
   "outputs": [
    {
     "name": "stdout",
     "output_type": "stream",
     "text": [
      "CPU times: user 1min 4s, sys: 2min 37s, total: 3min 42s\n",
      "Wall time: 5min\n"
     ]
    }
   ],
   "source": [
    "%%time\n",
    "hybrid_recommendation_sorted_idonly = {key: [m for (r, m) in l] for (key, l) in hybrid_recommendation_sorted.items()}"
   ]
  },
  {
   "cell_type": "markdown",
   "metadata": {},
   "source": [
    "## Evaluation: Recall at 10 based on 40 movies"
   ]
  },
  {
   "cell_type": "code",
   "execution_count": 18,
   "metadata": {},
   "outputs": [
    {
     "name": "stderr",
     "output_type": "stream",
     "text": [
      "100%|██████████| 2597428/2597428 [01:05<00:00, 39868.90it/s]"
     ]
    },
    {
     "name": "stdout",
     "output_type": "stream",
     "text": [
      "CPU times: user 25 s, sys: 24.5 s, total: 49.5 s\n",
      "Wall time: 1min 5s\n"
     ]
    },
    {
     "name": "stderr",
     "output_type": "stream",
     "text": [
      "\n"
     ]
    }
   ],
   "source": [
    "%%time\n",
    "k =10\n",
    "avg_recall = 0\n",
    "for u, m, _ in tqdm(validation_set.values, position=0, leave=True):\n",
    "    avg_recall += recall_at_k(user=u, \n",
    "                              prediction=hybrid_recommendation_sorted_idonly[u, m], \n",
    "                              k=10,\n",
    "                              items_per_user=movies_per_user)"
   ]
  },
  {
   "cell_type": "code",
   "execution_count": 19,
   "metadata": {},
   "outputs": [
    {
     "name": "stdout",
     "output_type": "stream",
     "text": [
      "Recall at 10: 0.05109804776144093\n"
     ]
    }
   ],
   "source": [
    "print(f\"Recall at {k}: {avg_recall / validation_set.shape[0]}\")"
   ]
  },
  {
   "cell_type": "code",
   "execution_count": null,
   "metadata": {},
   "outputs": [],
   "source": []
  }
 ],
 "metadata": {
  "kernelspec": {
   "display_name": "Python 3",
   "language": "python",
   "name": "python3"
  },
  "language_info": {
   "codemirror_mode": {
    "name": "ipython",
    "version": 3
   },
   "file_extension": ".py",
   "mimetype": "text/x-python",
   "name": "python",
   "nbconvert_exporter": "python",
   "pygments_lexer": "ipython3",
   "version": "3.7.4"
  }
 },
 "nbformat": 4,
 "nbformat_minor": 2
}
